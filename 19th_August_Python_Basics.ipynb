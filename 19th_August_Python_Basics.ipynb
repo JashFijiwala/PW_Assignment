{
 "cells": [
  {
   "cell_type": "code",
   "execution_count": 3,
   "id": "6a6ac244",
   "metadata": {},
   "outputs": [
    {
     "name": "stdout",
     "output_type": "stream",
     "text": [
      "Before swapping, the value of x is 10 and the value of y is 35\n",
      "After swapping, the value of x is 35 and the value of y is 10\n"
     ]
    }
   ],
   "source": [
    "# Question:1\n",
    "\n",
    "# Declaring variables\n",
    "x=10\n",
    "y=35\n",
    "\n",
    "# Printing values before the swap\n",
    "print(f\"Before swapping, the value of x is {x} and the value of y is {y}\")\n",
    "\n",
    "# Swapping\n",
    "x=x+y\n",
    "y=x-y\n",
    "x=x-y\n",
    "\n",
    "# Printing values after swapping\n",
    "print(f\"After swapping, the value of x is {x} and the value of y is {y}\")"
   ]
  },
  {
   "cell_type": "code",
   "execution_count": 5,
   "id": "7212a9bb",
   "metadata": {},
   "outputs": [
    {
     "name": "stdout",
     "output_type": "stream",
     "text": [
      "Enter the length of the rectangle: 10\n",
      "Enter the width of the rectangle: 10\n",
      "The area of the rectangle is: 100.0\n"
     ]
    }
   ],
   "source": [
    "#Question:2\n",
    "\n",
    "# Taking user inputs \n",
    "length = float(input(\"Enter the length of the rectangle: \"))\n",
    "width = float(input(\"Enter the width of the rectangle: \"))\n",
    "\n",
    "# Calculating the area\n",
    "area = length * width\n",
    "\n",
    "# Displaying the result\n",
    "print(f\"The area of the rectangle is: {area}\")"
   ]
  },
  {
   "cell_type": "code",
   "execution_count": 7,
   "id": "78040781",
   "metadata": {},
   "outputs": [
    {
     "name": "stdout",
     "output_type": "stream",
     "text": [
      "Enter the temperature in Celsius: 37\n",
      "The temperature in Fahrenheit is: 98.6\n"
     ]
    }
   ],
   "source": [
    "# Question:3\n",
    "\n",
    "# Taking user input for temperature in Celsius\n",
    "celsius = float(input(\"Enter the temperature in Celsius: \"))\n",
    "\n",
    "# Converting Celsius to Fahrenheit\n",
    "fahrenheit = (celsius * 9/5) + 32\n",
    "\n",
    "# Displaying the result\n",
    "print(f\"The temperature in Fahrenheit is: {fahrenheit}\")"
   ]
  },
  {
   "cell_type": "code",
   "execution_count": 1,
   "id": "12361102",
   "metadata": {},
   "outputs": [
    {
     "name": "stdout",
     "output_type": "stream",
     "text": [
      "Enter something:Hello!\n",
      "The length of the string is: 6\n"
     ]
    }
   ],
   "source": [
    "#Strings\n",
    "\n",
    "#Question:1\n",
    "\n",
    "#Taking user input\n",
    "str1=input(\"Enter something:\")\n",
    "\n",
    "length=len(str1)\n",
    "\n",
    "print(f\"The length of the string is: {length}\")\n",
    "\n"
   ]
  },
  {
   "cell_type": "code",
   "execution_count": 4,
   "id": "0aee71e1",
   "metadata": {},
   "outputs": [
    {
     "name": "stdout",
     "output_type": "stream",
     "text": [
      "Enter a sentence:Hello, World!\n",
      "There are 3 vowels in the sentence.\n"
     ]
    }
   ],
   "source": [
    "# Question:2\n",
    "\n",
    "str1=input(\"Enter a sentence:\")\n",
    "count=0\n",
    "\n",
    "#converting the string to lowercase\n",
    "str1=str1.lower() \n",
    "for letter in str1:\n",
    "    if letter == 'a'or letter == 'e' or letter == 'i' or letter == 'o' or letter == 'u':\n",
    "        count+=1\n",
    "print(f\"There are {count} vowels in the sentence.\")"
   ]
  },
  {
   "cell_type": "code",
   "execution_count": 5,
   "id": "189329b6",
   "metadata": {},
   "outputs": [
    {
     "name": "stdout",
     "output_type": "stream",
     "text": [
      "Enter a string: Hi, how are you?\n",
      "Reversed string: ?uoy era woh ,iH\n"
     ]
    }
   ],
   "source": [
    "# Question:3\n",
    "\n",
    "str1 = input(\"Enter a string: \")\n",
    "\n",
    "#Reversing the string using slicing\n",
    "reversed_string = str1[::-1]\n",
    "print(f\"Reversed string: {reversed_string}\")"
   ]
  },
  {
   "cell_type": "code",
   "execution_count": 6,
   "id": "ef0ccd12",
   "metadata": {},
   "outputs": [
    {
     "name": "stdout",
     "output_type": "stream",
     "text": [
      "Enter a string: ababababa\n",
      "It is a palindrome string\n"
     ]
    }
   ],
   "source": [
    "# Question:4 \n",
    "\n",
    "str1 = input(\"Enter a string: \")\n",
    "reversed_string = str1[::-1]\n",
    "\n",
    "#Checking whether palindrome or not\n",
    "if str1 == reversed_string:\n",
    "    print(\"It is a palindrome string\")\n",
    "else:\n",
    "    print(\"It is not a palindrome string\")"
   ]
  },
  {
   "cell_type": "code",
   "execution_count": 7,
   "id": "c6165b26",
   "metadata": {},
   "outputs": [
    {
     "name": "stdout",
     "output_type": "stream",
     "text": [
      "Enter a string: Hello I am Jash\n",
      "HelloIamJash\n"
     ]
    }
   ],
   "source": [
    "# Question:5 \n",
    "\n",
    "str1 = input(\"Enter a string: \")\n",
    "\n",
    "#Using String function 'replace' to remove the whitespaces\n",
    "new_string=str1.replace(\" \",\"\")\n",
    "\n",
    "print(f\"{new_string}\")"
   ]
  },
  {
   "cell_type": "code",
   "execution_count": null,
   "id": "ab30179f",
   "metadata": {},
   "outputs": [],
   "source": []
  }
 ],
 "metadata": {
  "kernelspec": {
   "display_name": "Python 3 (ipykernel)",
   "language": "python",
   "name": "python3"
  },
  "language_info": {
   "codemirror_mode": {
    "name": "ipython",
    "version": 3
   },
   "file_extension": ".py",
   "mimetype": "text/x-python",
   "name": "python",
   "nbconvert_exporter": "python",
   "pygments_lexer": "ipython3",
   "version": "3.10.9"
  }
 },
 "nbformat": 4,
 "nbformat_minor": 5
}
